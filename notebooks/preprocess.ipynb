{
 "cells": [
  {
   "cell_type": "code",
   "execution_count": 3,
   "metadata": {},
   "outputs": [],
   "source": [
    "import pandas as pd\n",
    "import numpy as np"
   ]
  },
  {
   "cell_type": "code",
   "execution_count": 10,
   "metadata": {},
   "outputs": [],
   "source": [
    "# import data\n",
    "demo = pd.read_csv(\"./data/demo2023q2.csv\", dtype={'to_mfr': str})"
   ]
  },
  {
   "cell_type": "code",
   "execution_count": 11,
   "metadata": {},
   "outputs": [
    {
     "data": {
      "text/plain": [
       "Index(['primaryid', 'caseid', 'caseversion', 'i_f_code', 'i_f_code_num',\n",
       "       'event_dt', 'event_dt_num', 'mfr_dt', 'mfr_dt_num', 'init_fda_dt',\n",
       "       'init_fda_dt_num', 'fda_dt', 'fda_dt_num', 'rept_cod', 'rept_cod_num',\n",
       "       'auth_num', 'mfr_num', 'mfr_sndr', 'lit_ref', 'age', 'age_cod',\n",
       "       'age_grp', 'sex', 'e_sub', 'wt', 'wt_cod', 'rept_dt', 'rept_dt_num',\n",
       "       'to_mfr', 'occp_cod', 'reporter_country', 'occr_country',\n",
       "       'occp_cod_num'],\n",
       "      dtype='object')"
      ]
     },
     "execution_count": 11,
     "metadata": {},
     "output_type": "execute_result"
    }
   ],
   "source": [
    "demo.columns"
   ]
  },
  {
   "cell_type": "code",
   "execution_count": 14,
   "metadata": {},
   "outputs": [],
   "source": [
    "# decide which columns to drop based on data dictionary: https://pharmahub.org/app/site/resources/2018/01/00739/FDA-FAERS-Data-Dictionary.pdf\n",
    "to_drop = [\"caseversion\", \"i_f_code\", \"i_f_code_num\", \"rept_cod\", \"rept_cod_num\", \"auth_num\", \"mfr_num\", \"e_sub\", \"rept_dt_num\", \"to_mfr\" ]\n",
    "demo.drop(to_drop, axis=1, inplace=True)"
   ]
  },
  {
   "cell_type": "code",
   "execution_count": 16,
   "metadata": {},
   "outputs": [
    {
     "data": {
      "text/html": [
       "<div>\n",
       "<style scoped>\n",
       "    .dataframe tbody tr th:only-of-type {\n",
       "        vertical-align: middle;\n",
       "    }\n",
       "\n",
       "    .dataframe tbody tr th {\n",
       "        vertical-align: top;\n",
       "    }\n",
       "\n",
       "    .dataframe thead th {\n",
       "        text-align: right;\n",
       "    }\n",
       "</style>\n",
       "<table border=\"1\" class=\"dataframe\">\n",
       "  <thead>\n",
       "    <tr style=\"text-align: right;\">\n",
       "      <th></th>\n",
       "      <th>primaryid</th>\n",
       "      <th>caseid</th>\n",
       "      <th>event_dt</th>\n",
       "      <th>event_dt_num</th>\n",
       "      <th>mfr_dt</th>\n",
       "      <th>mfr_dt_num</th>\n",
       "      <th>init_fda_dt</th>\n",
       "      <th>init_fda_dt_num</th>\n",
       "      <th>fda_dt</th>\n",
       "      <th>fda_dt_num</th>\n",
       "      <th>...</th>\n",
       "      <th>age_cod</th>\n",
       "      <th>age_grp</th>\n",
       "      <th>sex</th>\n",
       "      <th>wt</th>\n",
       "      <th>wt_cod</th>\n",
       "      <th>rept_dt</th>\n",
       "      <th>occp_cod</th>\n",
       "      <th>reporter_country</th>\n",
       "      <th>occr_country</th>\n",
       "      <th>occp_cod_num</th>\n",
       "    </tr>\n",
       "  </thead>\n",
       "  <tbody>\n",
       "    <tr>\n",
       "      <th>0</th>\n",
       "      <td>37318572</td>\n",
       "      <td>3731857</td>\n",
       "      <td>19991101.0</td>\n",
       "      <td>01nov1999</td>\n",
       "      <td>20230515.0</td>\n",
       "      <td>15may2023</td>\n",
       "      <td>20011113</td>\n",
       "      <td>13nov2001</td>\n",
       "      <td>20230518</td>\n",
       "      <td>18may2023</td>\n",
       "      <td>...</td>\n",
       "      <td>YR</td>\n",
       "      <td>NaN</td>\n",
       "      <td>M</td>\n",
       "      <td>NaN</td>\n",
       "      <td>NaN</td>\n",
       "      <td>20230518</td>\n",
       "      <td>HP</td>\n",
       "      <td>US</td>\n",
       "      <td>US</td>\n",
       "      <td>NaN</td>\n",
       "    </tr>\n",
       "    <tr>\n",
       "      <th>1</th>\n",
       "      <td>40815622</td>\n",
       "      <td>4081562</td>\n",
       "      <td>20011128.0</td>\n",
       "      <td>28nov2001</td>\n",
       "      <td>20230328.0</td>\n",
       "      <td>28mar2023</td>\n",
       "      <td>20040206</td>\n",
       "      <td>06feb2004</td>\n",
       "      <td>20230407</td>\n",
       "      <td>07apr2023</td>\n",
       "      <td>...</td>\n",
       "      <td>YR</td>\n",
       "      <td>NaN</td>\n",
       "      <td>F</td>\n",
       "      <td>52.0</td>\n",
       "      <td>KG</td>\n",
       "      <td>20230407</td>\n",
       "      <td>MD</td>\n",
       "      <td>DE</td>\n",
       "      <td>NaN</td>\n",
       "      <td>MD Physician</td>\n",
       "    </tr>\n",
       "    <tr>\n",
       "      <th>2</th>\n",
       "      <td>59214303</td>\n",
       "      <td>5921430</td>\n",
       "      <td>20050122.0</td>\n",
       "      <td>22jan2005</td>\n",
       "      <td>20230420.0</td>\n",
       "      <td>20apr2023</td>\n",
       "      <td>20051111</td>\n",
       "      <td>11nov2005</td>\n",
       "      <td>20230425</td>\n",
       "      <td>25apr2023</td>\n",
       "      <td>...</td>\n",
       "      <td>YR</td>\n",
       "      <td>NaN</td>\n",
       "      <td>M</td>\n",
       "      <td>NaN</td>\n",
       "      <td>NaN</td>\n",
       "      <td>20230425</td>\n",
       "      <td>HP</td>\n",
       "      <td>US</td>\n",
       "      <td>NaN</td>\n",
       "      <td>NaN</td>\n",
       "    </tr>\n",
       "    <tr>\n",
       "      <th>3</th>\n",
       "      <td>59221653</td>\n",
       "      <td>5922165</td>\n",
       "      <td>20050930.0</td>\n",
       "      <td>30sep2005</td>\n",
       "      <td>20230420.0</td>\n",
       "      <td>20apr2023</td>\n",
       "      <td>20051114</td>\n",
       "      <td>14nov2005</td>\n",
       "      <td>20230428</td>\n",
       "      <td>28apr2023</td>\n",
       "      <td>...</td>\n",
       "      <td>YR</td>\n",
       "      <td>NaN</td>\n",
       "      <td>M</td>\n",
       "      <td>103.0</td>\n",
       "      <td>KG</td>\n",
       "      <td>20230428</td>\n",
       "      <td>HP</td>\n",
       "      <td>CA</td>\n",
       "      <td>NaN</td>\n",
       "      <td>NaN</td>\n",
       "    </tr>\n",
       "    <tr>\n",
       "      <th>4</th>\n",
       "      <td>60665134</td>\n",
       "      <td>6066513</td>\n",
       "      <td>NaN</td>\n",
       "      <td>NaN</td>\n",
       "      <td>20230531.0</td>\n",
       "      <td>31may2023</td>\n",
       "      <td>20060616</td>\n",
       "      <td>16jun2006</td>\n",
       "      <td>20230605</td>\n",
       "      <td>05jun2023</td>\n",
       "      <td>...</td>\n",
       "      <td>YR</td>\n",
       "      <td>NaN</td>\n",
       "      <td>M</td>\n",
       "      <td>NaN</td>\n",
       "      <td>NaN</td>\n",
       "      <td>20230602</td>\n",
       "      <td>HP</td>\n",
       "      <td>JP</td>\n",
       "      <td>JP</td>\n",
       "      <td>NaN</td>\n",
       "    </tr>\n",
       "  </tbody>\n",
       "</table>\n",
       "<p>5 rows × 23 columns</p>\n",
       "</div>"
      ],
      "text/plain": [
       "   primaryid   caseid    event_dt event_dt_num      mfr_dt mfr_dt_num  \\\n",
       "0   37318572  3731857  19991101.0    01nov1999  20230515.0  15may2023   \n",
       "1   40815622  4081562  20011128.0    28nov2001  20230328.0  28mar2023   \n",
       "2   59214303  5921430  20050122.0    22jan2005  20230420.0  20apr2023   \n",
       "3   59221653  5922165  20050930.0    30sep2005  20230420.0  20apr2023   \n",
       "4   60665134  6066513         NaN          NaN  20230531.0  31may2023   \n",
       "\n",
       "   init_fda_dt init_fda_dt_num    fda_dt fda_dt_num  ... age_cod age_grp  sex  \\\n",
       "0     20011113       13nov2001  20230518  18may2023  ...      YR     NaN    M   \n",
       "1     20040206       06feb2004  20230407  07apr2023  ...      YR     NaN    F   \n",
       "2     20051111       11nov2005  20230425  25apr2023  ...      YR     NaN    M   \n",
       "3     20051114       14nov2005  20230428  28apr2023  ...      YR     NaN    M   \n",
       "4     20060616       16jun2006  20230605  05jun2023  ...      YR     NaN    M   \n",
       "\n",
       "      wt wt_cod   rept_dt  occp_cod reporter_country  occr_country  \\\n",
       "0    NaN    NaN  20230518        HP               US            US   \n",
       "1   52.0     KG  20230407        MD               DE           NaN   \n",
       "2    NaN    NaN  20230425        HP               US           NaN   \n",
       "3  103.0     KG  20230428        HP               CA           NaN   \n",
       "4    NaN    NaN  20230602        HP               JP            JP   \n",
       "\n",
       "   occp_cod_num  \n",
       "0           NaN  \n",
       "1  MD Physician  \n",
       "2           NaN  \n",
       "3           NaN  \n",
       "4           NaN  \n",
       "\n",
       "[5 rows x 23 columns]"
      ]
     },
     "execution_count": 16,
     "metadata": {},
     "output_type": "execute_result"
    }
   ],
   "source": [
    "demo.head()"
   ]
  },
  {
   "cell_type": "code",
   "execution_count": 17,
   "metadata": {},
   "outputs": [
    {
     "data": {
      "text/plain": [
       "(418592, 23)"
      ]
     },
     "execution_count": 17,
     "metadata": {},
     "output_type": "execute_result"
    }
   ],
   "source": [
    "demo.shape"
   ]
  },
  {
   "cell_type": "code",
   "execution_count": 23,
   "metadata": {},
   "outputs": [
    {
     "data": {
      "text/plain": [
       "occr_country\n",
       "US    244677\n",
       "CA     28977\n",
       "JP     14320\n",
       "GB     12092\n",
       "FR     11746\n",
       "DE      7656\n",
       "CN      5807\n",
       "IT      5352\n",
       "ES      3897\n",
       "AU      3300\n",
       "dtype: int64"
      ]
     },
     "execution_count": 23,
     "metadata": {},
     "output_type": "execute_result"
    }
   ],
   "source": [
    "demo.value_counts(\"occr_country\").head(n=10)"
   ]
  },
  {
   "cell_type": "code",
   "execution_count": 27,
   "metadata": {},
   "outputs": [
    {
     "data": {
      "text/plain": [
       "mfr_sndr\n",
       "NOVARTIS                36480\n",
       "PFIZER                  28864\n",
       "SANOFI AVENTIS          23459\n",
       "ABBVIE                  21329\n",
       "ROCHE                   19707\n",
       "AMGEN                   18685\n",
       "JOHNSON AND JOHNSON     17993\n",
       "BRISTOL MYERS SQUIBB    17660\n",
       "FDA-CTU                 17197\n",
       "UCB                     14300\n",
       "dtype: int64"
      ]
     },
     "execution_count": 27,
     "metadata": {},
     "output_type": "execute_result"
    }
   ],
   "source": [
    "demo.value_counts(\"mfr_sndr\").head(n=10)"
   ]
  }
 ],
 "metadata": {
  "kernelspec": {
   "display_name": "Python 3",
   "language": "python",
   "name": "python3"
  },
  "language_info": {
   "codemirror_mode": {
    "name": "ipython",
    "version": 3
   },
   "file_extension": ".py",
   "mimetype": "text/x-python",
   "name": "python",
   "nbconvert_exporter": "python",
   "pygments_lexer": "ipython3",
   "version": "3.10.1"
  },
  "orig_nbformat": 4
 },
 "nbformat": 4,
 "nbformat_minor": 2
}
